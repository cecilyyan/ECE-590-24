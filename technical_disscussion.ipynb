{
  "nbformat": 4,
  "nbformat_minor": 0,
  "metadata": {
    "colab": {
      "name": "technical disscussion.ipynb",
      "provenance": [],
      "authorship_tag": "ABX9TyP28wzavNLyOpkx5MrAYam7",
      "include_colab_link": true
    },
    "kernelspec": {
      "name": "python3",
      "display_name": "Python 3"
    }
  },
  "cells": [
    {
      "cell_type": "markdown",
      "metadata": {
        "id": "view-in-github",
        "colab_type": "text"
      },
      "source": [
        "<a href=\"https://colab.research.google.com/github/cecilyyan/ECE-590-24/blob/master/technical_disscussion.ipynb\" target=\"_parent\"><img src=\"https://colab.research.google.com/assets/colab-badge.svg\" alt=\"Open In Colab\"/></a>"
      ]
    },
    {
      "cell_type": "code",
      "metadata": {
        "id": "zL059JUOw2bI",
        "colab_type": "code",
        "colab": {}
      },
      "source": [
        "#my info\n",
        "def func():\n",
        "  print(\"I am Yijie Yan\")"
      ],
      "execution_count": 0,
      "outputs": []
    }
  ]
}